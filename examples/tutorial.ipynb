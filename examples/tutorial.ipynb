{
 "cells": [
  {
   "cell_type": "markdown",
   "metadata": {},
   "source": [
    "### Import Libraries"
   ]
  },
  {
   "cell_type": "code",
   "execution_count": 16,
   "metadata": {},
   "outputs": [],
   "source": [
    "import os\n",
    "import time\n",
    "import matplotlib.pyplot as plt\n",
    "import numpy as np\n",
    "import torch.nn as nn\n",
    "import torch\n",
    "import torchvision.transforms as transforms\n",
    "import torchvision.datasets as datasets\n",
    "from torch.utils.data import DataLoader\n",
    "from mnn_torch.devices import load_SiOx_multistate\n",
    "from mnn_torch.models import MSNN, MCSNN\n",
    "from snntorch import surrogate\n",
    "from mnn_torch.effects import compute_PooleFrenkel_parameters\n"
   ]
  },
  {
   "cell_type": "code",
   "execution_count": 3,
   "metadata": {},
   "outputs": [
    {
     "name": "stdout",
     "output_type": "stream",
     "text": [
      "tensor([[0.5899, 0.3754, 0.5193],\n",
      "        [0.1065, 0.6849, 0.8509],\n",
      "        [0.3237, 0.6957, 0.5388],\n",
      "        [0.7886, 0.1921, 0.6163],\n",
      "        [0.3079, 0.7732, 0.7179]])\n"
     ]
    },
    {
     "data": {
      "text/plain": [
       "'NVIDIA GeForce RTX 4090'"
      ]
     },
     "execution_count": 3,
     "metadata": {},
     "output_type": "execute_result"
    }
   ],
   "source": [
    "# test cuda availability\n",
    "x = torch.rand(5, 3)\n",
    "print(x)\n",
    "\n",
    "torch.cuda.is_available()\n",
    "torch.cuda.device_count()\n",
    "torch.cuda.current_device()\n",
    "torch.cuda.get_device_name(0)"
   ]
  },
  {
   "cell_type": "markdown",
   "metadata": {},
   "source": [
    "### Load Data and Initialize Parameters"
   ]
  },
  {
   "cell_type": "code",
   "execution_count": 14,
   "metadata": {},
   "outputs": [],
   "source": [
    "# Load experimental data and Poole-Frenkel parameters\n",
    "current_dir = os.getcwd()\n",
    "experimental_data = load_SiOx_multistate(\"../data/SiO_x-multistate-data.mat\")\n",
    "G_off, G_on, R, c, d_epsilon = compute_PooleFrenkel_parameters(experimental_data)\n",
    "\n",
    "# Default hyperparameters\n",
    "batch_size = 64\n",
    "num_epochs = 1\n",
    "num_steps = 25\n",
    "beta = 0.95\n",
    "data_path = \"../data\"\n",
    "lr = 5e-4\n",
    "\n",
    "# Memristive configuration\n",
    "PF_config = {\n",
    "    \"ideal\": False,\n",
    "    \"k_V\": 0.5,\n",
    "    \"G_off\": G_off,\n",
    "    \"G_on\": G_on,\n",
    "    \"R\": R,\n",
    "    \"c\": c,\n",
    "    \"d_epsilon\": d_epsilon,\n",
    "    \"disturb_conductance\": True,\n",
    "    \"disturb_mode\": \"fixed\",\n",
    "    \"disturbance_probability\": 0.1,\n",
    "    \"homeostasis_dropout\": True,\n",
    "    \"homeostasis_threshold\": 10,\n",
    "}\n",
    "\n",
    "# Data loading\n",
    "transform = transforms.Compose(\n",
    "    [\n",
    "        transforms.Resize((28, 28)),\n",
    "        transforms.Grayscale(),\n",
    "        transforms.ToTensor(),\n",
    "        transforms.Normalize((0,), (1,)),\n",
    "    ]\n",
    ")\n",
    "mnist_train = datasets.MNIST(data_path, train=True, download=True, transform=transform)\n",
    "mnist_test = datasets.MNIST(data_path, train=False, download=True, transform=transform)\n",
    "\n",
    "training_loader = DataLoader(mnist_train, batch_size=batch_size, shuffle=True, drop_last=True)\n",
    "validation_loader = DataLoader(mnist_test, batch_size=batch_size, shuffle=True, drop_last=True)\n",
    "\n",
    "# Device configuration\n",
    "device = torch.device(\"cuda\" if torch.cuda.is_available() else \"cpu\")\n"
   ]
  },
  {
   "cell_type": "markdown",
   "metadata": {},
   "source": [
    "### Define Model and Training Function"
   ]
  },
  {
   "cell_type": "code",
   "execution_count": 17,
   "metadata": {},
   "outputs": [],
   "source": [
    "def train_model(model_type=\"MSNN\"):\n",
    "    # Initialize the model\n",
    "    if model_type == \"MSNN\":\n",
    "        net = MSNN(28 * 28, 100, 10, num_steps, beta, PF_config).to(device)\n",
    "    elif model_type == \"MCSNN\":\n",
    "        net = MCSNN(\n",
    "            beta=beta,\n",
    "            spike_grad=surrogate.fast_sigmoid(slope=25),\n",
    "            num_steps=num_steps,\n",
    "            batch_size=batch_size,\n",
    "            num_kernels=5,\n",
    "            num_conv1=12,\n",
    "            num_conv2=64,\n",
    "            max_pooling=2,\n",
    "            num_outputs=10,\n",
    "            memristive_config=PF_config,\n",
    "        ).to(device)\n",
    "    else:\n",
    "        raise ValueError(\"Invalid model_type. Choose 'MSNN' or 'MCSNN'.\")\n",
    "\n",
    "    # Loss and optimizer\n",
    "    loss_fn = nn.CrossEntropyLoss()\n",
    "    optimizer = torch.optim.Adam(net.parameters(), lr=lr)\n",
    "\n",
    "    # Metrics storage\n",
    "    loss_hist = []\n",
    "    test_loss_hist = []\n",
    "    test_acc_hist = []\n",
    "\n",
    "    # Training loop\n",
    "    start_time = time.time()\n",
    "    for epoch in range(num_epochs):\n",
    "        for iter_counter, (data, targets) in enumerate(training_loader):\n",
    "            data, targets = data.to(device), targets.to(device)\n",
    "\n",
    "            # Forward pass\n",
    "            net.train()\n",
    "            spk_rec, mem_rec = net(data.view(batch_size, -1))\n",
    "            loss_val = sum(loss_fn(mem_rec[step], targets) for step in range(num_steps))\n",
    "\n",
    "            # Backward pass\n",
    "            optimizer.zero_grad()\n",
    "            loss_val.backward()\n",
    "            optimizer.step()\n",
    "\n",
    "            loss_hist.append(loss_val.item())\n",
    "\n",
    "            # Evaluate on validation set\n",
    "            if iter_counter % 50 == 0:\n",
    "                with torch.no_grad():\n",
    "                    net.eval()\n",
    "                    test_data, test_targets = next(iter(validation_loader))\n",
    "                    test_data, test_targets = test_data.to(device), test_targets.to(device)\n",
    "\n",
    "                    test_spk, test_mem = net(test_data.view(batch_size, -1))\n",
    "                    test_loss = sum(loss_fn(test_mem[step], test_targets) for step in range(num_steps))\n",
    "                    test_loss_hist.append(test_loss.item())\n",
    "\n",
    "                    # Compute accuracy\n",
    "                    _, idx = test_spk.sum(dim=0).max(1)\n",
    "                    acc = (idx == test_targets).float().mean().item()\n",
    "                    test_acc_hist.append(acc)\n",
    "\n",
    "                    print(\n",
    "                        f\"Epoch {epoch}, Iteration {iter_counter}\\n\"\n",
    "                        f\"Train Loss: {loss_val.item():.2f}, Test Loss: {test_loss.item():.2f}, \"\n",
    "                        f\"Test Accuracy: {acc * 100:.2f}%\"\n",
    "                    )\n",
    "\n",
    "    print(f\"Training completed in {time.time() - start_time:.2f} seconds\")\n",
    "\n",
    "    return loss_hist, test_loss_hist, test_acc_hist\n"
   ]
  },
  {
   "cell_type": "markdown",
   "metadata": {},
   "source": [
    "### Train the Model"
   ]
  },
  {
   "cell_type": "code",
   "execution_count": 18,
   "metadata": {},
   "outputs": [
    {
     "name": "stdout",
     "output_type": "stream",
     "text": [
      "Epoch 0, Iteration 0\n",
      "Train Loss: 569.54, Test Loss: 568.59, Test Accuracy: 18.75%\n",
      "Epoch 0, Iteration 50\n",
      "Train Loss: 353.54, Test Loss: 355.43, Test Accuracy: 67.19%\n",
      "Epoch 0, Iteration 100\n",
      "Train Loss: 313.02, Test Loss: 347.79, Test Accuracy: 68.75%\n",
      "Epoch 0, Iteration 150\n",
      "Train Loss: 285.08, Test Loss: 303.24, Test Accuracy: 75.00%\n",
      "Epoch 0, Iteration 200\n",
      "Train Loss: 291.11, Test Loss: 303.96, Test Accuracy: 82.81%\n",
      "Epoch 0, Iteration 250\n",
      "Train Loss: 273.17, Test Loss: 285.61, Test Accuracy: 82.81%\n",
      "Epoch 0, Iteration 300\n",
      "Train Loss: 299.91, Test Loss: 262.17, Test Accuracy: 87.50%\n",
      "Epoch 0, Iteration 350\n",
      "Train Loss: 297.71, Test Loss: 290.14, Test Accuracy: 76.56%\n",
      "Epoch 0, Iteration 400\n",
      "Train Loss: 261.68, Test Loss: 285.95, Test Accuracy: 87.50%\n",
      "Epoch 0, Iteration 450\n",
      "Train Loss: 300.36, Test Loss: 293.65, Test Accuracy: 78.12%\n",
      "Epoch 0, Iteration 500\n",
      "Train Loss: 298.51, Test Loss: 294.39, Test Accuracy: 82.81%\n",
      "Epoch 0, Iteration 550\n",
      "Train Loss: 290.59, Test Loss: 305.08, Test Accuracy: 84.38%\n",
      "Epoch 0, Iteration 600\n",
      "Train Loss: 272.02, Test Loss: 328.53, Test Accuracy: 82.81%\n",
      "Epoch 0, Iteration 650\n",
      "Train Loss: 313.85, Test Loss: 313.86, Test Accuracy: 82.81%\n",
      "Epoch 0, Iteration 700\n",
      "Train Loss: 337.25, Test Loss: 353.31, Test Accuracy: 81.25%\n",
      "Epoch 0, Iteration 750\n",
      "Train Loss: 327.24, Test Loss: 334.08, Test Accuracy: 82.81%\n",
      "Epoch 0, Iteration 800\n",
      "Train Loss: 256.30, Test Loss: 269.73, Test Accuracy: 89.06%\n",
      "Epoch 0, Iteration 850\n",
      "Train Loss: 280.85, Test Loss: 301.23, Test Accuracy: 81.25%\n",
      "Epoch 0, Iteration 900\n",
      "Train Loss: 319.45, Test Loss: 296.44, Test Accuracy: 84.38%\n",
      "Epoch 1, Iteration 0\n",
      "Train Loss: 338.71, Test Loss: 309.75, Test Accuracy: 82.81%\n",
      "Epoch 1, Iteration 50\n",
      "Train Loss: 338.32, Test Loss: 312.65, Test Accuracy: 81.25%\n"
     ]
    },
    {
     "ename": "KeyboardInterrupt",
     "evalue": "",
     "output_type": "error",
     "traceback": [
      "\u001b[1;31m---------------------------------------------------------------------------\u001b[0m",
      "\u001b[1;31mKeyboardInterrupt\u001b[0m                         Traceback (most recent call last)",
      "Cell \u001b[1;32mIn[18], line 1\u001b[0m\n\u001b[1;32m----> 1\u001b[0m loss_hist, test_loss_hist, test_acc_hist \u001b[38;5;241m=\u001b[39m \u001b[43mtrain_model\u001b[49m\u001b[43m(\u001b[49m\u001b[43mmodel_type\u001b[49m\u001b[38;5;241;43m=\u001b[39;49m\u001b[38;5;124;43m\"\u001b[39;49m\u001b[38;5;124;43mMSNN\u001b[39;49m\u001b[38;5;124;43m\"\u001b[39;49m\u001b[43m)\u001b[49m\n",
      "Cell \u001b[1;32mIn[17], line 43\u001b[0m, in \u001b[0;36mtrain_model\u001b[1;34m(model_type)\u001b[0m\n\u001b[0;32m     41\u001b[0m \u001b[38;5;66;03m# Backward pass\u001b[39;00m\n\u001b[0;32m     42\u001b[0m optimizer\u001b[38;5;241m.\u001b[39mzero_grad()\n\u001b[1;32m---> 43\u001b[0m \u001b[43mloss_val\u001b[49m\u001b[38;5;241;43m.\u001b[39;49m\u001b[43mbackward\u001b[49m\u001b[43m(\u001b[49m\u001b[43m)\u001b[49m\n\u001b[0;32m     44\u001b[0m optimizer\u001b[38;5;241m.\u001b[39mstep()\n\u001b[0;32m     46\u001b[0m loss_hist\u001b[38;5;241m.\u001b[39mappend(loss_val\u001b[38;5;241m.\u001b[39mitem())\n",
      "File \u001b[1;32mc:\\Users\\User\\anaconda3\\envs\\mnn_torch\\lib\\site-packages\\torch\\_tensor.py:581\u001b[0m, in \u001b[0;36mTensor.backward\u001b[1;34m(self, gradient, retain_graph, create_graph, inputs)\u001b[0m\n\u001b[0;32m    571\u001b[0m \u001b[38;5;28;01mif\u001b[39;00m has_torch_function_unary(\u001b[38;5;28mself\u001b[39m):\n\u001b[0;32m    572\u001b[0m     \u001b[38;5;28;01mreturn\u001b[39;00m handle_torch_function(\n\u001b[0;32m    573\u001b[0m         Tensor\u001b[38;5;241m.\u001b[39mbackward,\n\u001b[0;32m    574\u001b[0m         (\u001b[38;5;28mself\u001b[39m,),\n\u001b[1;32m   (...)\u001b[0m\n\u001b[0;32m    579\u001b[0m         inputs\u001b[38;5;241m=\u001b[39minputs,\n\u001b[0;32m    580\u001b[0m     )\n\u001b[1;32m--> 581\u001b[0m \u001b[43mtorch\u001b[49m\u001b[38;5;241;43m.\u001b[39;49m\u001b[43mautograd\u001b[49m\u001b[38;5;241;43m.\u001b[39;49m\u001b[43mbackward\u001b[49m\u001b[43m(\u001b[49m\n\u001b[0;32m    582\u001b[0m \u001b[43m    \u001b[49m\u001b[38;5;28;43mself\u001b[39;49m\u001b[43m,\u001b[49m\u001b[43m \u001b[49m\u001b[43mgradient\u001b[49m\u001b[43m,\u001b[49m\u001b[43m \u001b[49m\u001b[43mretain_graph\u001b[49m\u001b[43m,\u001b[49m\u001b[43m \u001b[49m\u001b[43mcreate_graph\u001b[49m\u001b[43m,\u001b[49m\u001b[43m \u001b[49m\u001b[43minputs\u001b[49m\u001b[38;5;241;43m=\u001b[39;49m\u001b[43minputs\u001b[49m\n\u001b[0;32m    583\u001b[0m \u001b[43m\u001b[49m\u001b[43m)\u001b[49m\n",
      "File \u001b[1;32mc:\\Users\\User\\anaconda3\\envs\\mnn_torch\\lib\\site-packages\\torch\\autograd\\__init__.py:347\u001b[0m, in \u001b[0;36mbackward\u001b[1;34m(tensors, grad_tensors, retain_graph, create_graph, grad_variables, inputs)\u001b[0m\n\u001b[0;32m    342\u001b[0m     retain_graph \u001b[38;5;241m=\u001b[39m create_graph\n\u001b[0;32m    344\u001b[0m \u001b[38;5;66;03m# The reason we repeat the same comment below is that\u001b[39;00m\n\u001b[0;32m    345\u001b[0m \u001b[38;5;66;03m# some Python versions print out the first line of a multi-line function\u001b[39;00m\n\u001b[0;32m    346\u001b[0m \u001b[38;5;66;03m# calls in the traceback and some print out the last line\u001b[39;00m\n\u001b[1;32m--> 347\u001b[0m \u001b[43m_engine_run_backward\u001b[49m\u001b[43m(\u001b[49m\n\u001b[0;32m    348\u001b[0m \u001b[43m    \u001b[49m\u001b[43mtensors\u001b[49m\u001b[43m,\u001b[49m\n\u001b[0;32m    349\u001b[0m \u001b[43m    \u001b[49m\u001b[43mgrad_tensors_\u001b[49m\u001b[43m,\u001b[49m\n\u001b[0;32m    350\u001b[0m \u001b[43m    \u001b[49m\u001b[43mretain_graph\u001b[49m\u001b[43m,\u001b[49m\n\u001b[0;32m    351\u001b[0m \u001b[43m    \u001b[49m\u001b[43mcreate_graph\u001b[49m\u001b[43m,\u001b[49m\n\u001b[0;32m    352\u001b[0m \u001b[43m    \u001b[49m\u001b[43minputs\u001b[49m\u001b[43m,\u001b[49m\n\u001b[0;32m    353\u001b[0m \u001b[43m    \u001b[49m\u001b[43mallow_unreachable\u001b[49m\u001b[38;5;241;43m=\u001b[39;49m\u001b[38;5;28;43;01mTrue\u001b[39;49;00m\u001b[43m,\u001b[49m\n\u001b[0;32m    354\u001b[0m \u001b[43m    \u001b[49m\u001b[43maccumulate_grad\u001b[49m\u001b[38;5;241;43m=\u001b[39;49m\u001b[38;5;28;43;01mTrue\u001b[39;49;00m\u001b[43m,\u001b[49m\n\u001b[0;32m    355\u001b[0m \u001b[43m\u001b[49m\u001b[43m)\u001b[49m\n",
      "File \u001b[1;32mc:\\Users\\User\\anaconda3\\envs\\mnn_torch\\lib\\site-packages\\torch\\autograd\\graph.py:825\u001b[0m, in \u001b[0;36m_engine_run_backward\u001b[1;34m(t_outputs, *args, **kwargs)\u001b[0m\n\u001b[0;32m    823\u001b[0m     unregister_hooks \u001b[38;5;241m=\u001b[39m _register_logging_hooks_on_whole_graph(t_outputs)\n\u001b[0;32m    824\u001b[0m \u001b[38;5;28;01mtry\u001b[39;00m:\n\u001b[1;32m--> 825\u001b[0m     \u001b[38;5;28;01mreturn\u001b[39;00m Variable\u001b[38;5;241m.\u001b[39m_execution_engine\u001b[38;5;241m.\u001b[39mrun_backward(  \u001b[38;5;66;03m# Calls into the C++ engine to run the backward pass\u001b[39;00m\n\u001b[0;32m    826\u001b[0m         t_outputs, \u001b[38;5;241m*\u001b[39margs, \u001b[38;5;241m*\u001b[39m\u001b[38;5;241m*\u001b[39mkwargs\n\u001b[0;32m    827\u001b[0m     )  \u001b[38;5;66;03m# Calls into the C++ engine to run the backward pass\u001b[39;00m\n\u001b[0;32m    828\u001b[0m \u001b[38;5;28;01mfinally\u001b[39;00m:\n\u001b[0;32m    829\u001b[0m     \u001b[38;5;28;01mif\u001b[39;00m attach_logging_hooks:\n",
      "\u001b[1;31mKeyboardInterrupt\u001b[0m: "
     ]
    }
   ],
   "source": [
    "loss_hist, test_loss_hist, test_acc_hist = train_model(model_type=\"MSNN\")"
   ]
  },
  {
   "cell_type": "markdown",
   "metadata": {},
   "source": [
    "### Plot Metrics"
   ]
  },
  {
   "cell_type": "code",
   "execution_count": null,
   "metadata": {},
   "outputs": [],
   "source": [
    "plt.figure(figsize=(12, 4))\n",
    "plt.subplot(1, 2, 1)\n",
    "plt.plot(loss_hist, label=\"Training Loss\")\n",
    "plt.plot(np.linspace(0, len(loss_hist), len(test_loss_hist)), test_loss_hist, label=\"Test Loss\")\n",
    "plt.xlabel(\"Iterations\")\n",
    "plt.ylabel(\"Loss\")\n",
    "plt.legend()\n",
    "plt.title(\"Loss over Time\")\n",
    "\n",
    "plt.subplot(1, 2, 2)\n",
    "plt.plot(test_acc_hist, label=\"Test Accuracy\")\n",
    "plt.xlabel(\"Validation Steps\")\n",
    "plt.ylabel(\"Accuracy\")\n",
    "plt.legend()\n",
    "plt.title(\"Accuracy over Time\")\n",
    "\n",
    "plt.tight_layout()\n",
    "plt.show()\n"
   ]
  }
 ],
 "metadata": {
  "kernelspec": {
   "display_name": "mnn_torch",
   "language": "python",
   "name": "python3"
  },
  "language_info": {
   "codemirror_mode": {
    "name": "ipython",
    "version": 3
   },
   "file_extension": ".py",
   "mimetype": "text/x-python",
   "name": "python",
   "nbconvert_exporter": "python",
   "pygments_lexer": "ipython3",
   "version": "3.10.15"
  },
  "orig_nbformat": 4
 },
 "nbformat": 4,
 "nbformat_minor": 2
}
